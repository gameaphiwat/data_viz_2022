{
  "nbformat": 4,
  "nbformat_minor": 0,
  "metadata": {
    "colab": {
      "name": "DataViz04_Data_Comparison.ipynb",
      "provenance": [],
      "authorship_tag": "ABX9TyMITL+d3lJw84Hvh6xskUNC",
      "include_colab_link": true
    },
    "kernelspec": {
      "name": "python3",
      "display_name": "Python 3"
    },
    "language_info": {
      "name": "python"
    }
  },
  "cells": [
    {
      "cell_type": "markdown",
      "metadata": {
        "id": "view-in-github",
        "colab_type": "text"
      },
      "source": [
        "<a href=\"https://colab.research.google.com/github/gameaphiwat/data_viz_2022/blob/main/DataViz04_Data_Comparison.ipynb\" target=\"_parent\"><img src=\"https://colab.research.google.com/assets/colab-badge.svg\" alt=\"Open In Colab\"/></a>"
      ]
    },
    {
      "cell_type": "markdown",
      "source": [
        "#**เปรียบเทียบ ข้อมูล ด้วย coordinate plot**"
      ],
      "metadata": {
        "id": "f5p3FiidEh3r"
      }
    },
    {
      "cell_type": "code",
      "execution_count": 1,
      "metadata": {
        "id": "phQzTbgO6ytm"
      },
      "outputs": [],
      "source": [
        "import pandas as pd"
      ]
    },
    {
      "cell_type": "code",
      "source": [
        "example_df = pd.read_csv('https://raw.github.com/pandas-dev/pandas/master/pandas/tests/io/data/csv/iris.csv')\n",
        "example_df"
      ],
      "metadata": {
        "colab": {
          "base_uri": "https://localhost:8080/",
          "height": 423
        },
        "id": "ktu0rC1B7PpA",
        "outputId": "c5e828e4-be1b-42e0-d6b4-6239cfe9675e"
      },
      "execution_count": 2,
      "outputs": [
        {
          "output_type": "execute_result",
          "data": {
            "text/html": [
              "\n",
              "  <div id=\"df-d4a15f50-ec69-49dc-8622-df92037b1622\">\n",
              "    <div class=\"colab-df-container\">\n",
              "      <div>\n",
              "<style scoped>\n",
              "    .dataframe tbody tr th:only-of-type {\n",
              "        vertical-align: middle;\n",
              "    }\n",
              "\n",
              "    .dataframe tbody tr th {\n",
              "        vertical-align: top;\n",
              "    }\n",
              "\n",
              "    .dataframe thead th {\n",
              "        text-align: right;\n",
              "    }\n",
              "</style>\n",
              "<table border=\"1\" class=\"dataframe\">\n",
              "  <thead>\n",
              "    <tr style=\"text-align: right;\">\n",
              "      <th></th>\n",
              "      <th>SepalLength</th>\n",
              "      <th>SepalWidth</th>\n",
              "      <th>PetalLength</th>\n",
              "      <th>PetalWidth</th>\n",
              "      <th>Name</th>\n",
              "    </tr>\n",
              "  </thead>\n",
              "  <tbody>\n",
              "    <tr>\n",
              "      <th>0</th>\n",
              "      <td>5.1</td>\n",
              "      <td>3.5</td>\n",
              "      <td>1.4</td>\n",
              "      <td>0.2</td>\n",
              "      <td>Iris-setosa</td>\n",
              "    </tr>\n",
              "    <tr>\n",
              "      <th>1</th>\n",
              "      <td>4.9</td>\n",
              "      <td>3.0</td>\n",
              "      <td>1.4</td>\n",
              "      <td>0.2</td>\n",
              "      <td>Iris-setosa</td>\n",
              "    </tr>\n",
              "    <tr>\n",
              "      <th>2</th>\n",
              "      <td>4.7</td>\n",
              "      <td>3.2</td>\n",
              "      <td>1.3</td>\n",
              "      <td>0.2</td>\n",
              "      <td>Iris-setosa</td>\n",
              "    </tr>\n",
              "    <tr>\n",
              "      <th>3</th>\n",
              "      <td>4.6</td>\n",
              "      <td>3.1</td>\n",
              "      <td>1.5</td>\n",
              "      <td>0.2</td>\n",
              "      <td>Iris-setosa</td>\n",
              "    </tr>\n",
              "    <tr>\n",
              "      <th>4</th>\n",
              "      <td>5.0</td>\n",
              "      <td>3.6</td>\n",
              "      <td>1.4</td>\n",
              "      <td>0.2</td>\n",
              "      <td>Iris-setosa</td>\n",
              "    </tr>\n",
              "    <tr>\n",
              "      <th>...</th>\n",
              "      <td>...</td>\n",
              "      <td>...</td>\n",
              "      <td>...</td>\n",
              "      <td>...</td>\n",
              "      <td>...</td>\n",
              "    </tr>\n",
              "    <tr>\n",
              "      <th>145</th>\n",
              "      <td>6.7</td>\n",
              "      <td>3.0</td>\n",
              "      <td>5.2</td>\n",
              "      <td>2.3</td>\n",
              "      <td>Iris-virginica</td>\n",
              "    </tr>\n",
              "    <tr>\n",
              "      <th>146</th>\n",
              "      <td>6.3</td>\n",
              "      <td>2.5</td>\n",
              "      <td>5.0</td>\n",
              "      <td>1.9</td>\n",
              "      <td>Iris-virginica</td>\n",
              "    </tr>\n",
              "    <tr>\n",
              "      <th>147</th>\n",
              "      <td>6.5</td>\n",
              "      <td>3.0</td>\n",
              "      <td>5.2</td>\n",
              "      <td>2.0</td>\n",
              "      <td>Iris-virginica</td>\n",
              "    </tr>\n",
              "    <tr>\n",
              "      <th>148</th>\n",
              "      <td>6.2</td>\n",
              "      <td>3.4</td>\n",
              "      <td>5.4</td>\n",
              "      <td>2.3</td>\n",
              "      <td>Iris-virginica</td>\n",
              "    </tr>\n",
              "    <tr>\n",
              "      <th>149</th>\n",
              "      <td>5.9</td>\n",
              "      <td>3.0</td>\n",
              "      <td>5.1</td>\n",
              "      <td>1.8</td>\n",
              "      <td>Iris-virginica</td>\n",
              "    </tr>\n",
              "  </tbody>\n",
              "</table>\n",
              "<p>150 rows × 5 columns</p>\n",
              "</div>\n",
              "      <button class=\"colab-df-convert\" onclick=\"convertToInteractive('df-d4a15f50-ec69-49dc-8622-df92037b1622')\"\n",
              "              title=\"Convert this dataframe to an interactive table.\"\n",
              "              style=\"display:none;\">\n",
              "        \n",
              "  <svg xmlns=\"http://www.w3.org/2000/svg\" height=\"24px\"viewBox=\"0 0 24 24\"\n",
              "       width=\"24px\">\n",
              "    <path d=\"M0 0h24v24H0V0z\" fill=\"none\"/>\n",
              "    <path d=\"M18.56 5.44l.94 2.06.94-2.06 2.06-.94-2.06-.94-.94-2.06-.94 2.06-2.06.94zm-11 1L8.5 8.5l.94-2.06 2.06-.94-2.06-.94L8.5 2.5l-.94 2.06-2.06.94zm10 10l.94 2.06.94-2.06 2.06-.94-2.06-.94-.94-2.06-.94 2.06-2.06.94z\"/><path d=\"M17.41 7.96l-1.37-1.37c-.4-.4-.92-.59-1.43-.59-.52 0-1.04.2-1.43.59L10.3 9.45l-7.72 7.72c-.78.78-.78 2.05 0 2.83L4 21.41c.39.39.9.59 1.41.59.51 0 1.02-.2 1.41-.59l7.78-7.78 2.81-2.81c.8-.78.8-2.07 0-2.86zM5.41 20L4 18.59l7.72-7.72 1.47 1.35L5.41 20z\"/>\n",
              "  </svg>\n",
              "      </button>\n",
              "      \n",
              "  <style>\n",
              "    .colab-df-container {\n",
              "      display:flex;\n",
              "      flex-wrap:wrap;\n",
              "      gap: 12px;\n",
              "    }\n",
              "\n",
              "    .colab-df-convert {\n",
              "      background-color: #E8F0FE;\n",
              "      border: none;\n",
              "      border-radius: 50%;\n",
              "      cursor: pointer;\n",
              "      display: none;\n",
              "      fill: #1967D2;\n",
              "      height: 32px;\n",
              "      padding: 0 0 0 0;\n",
              "      width: 32px;\n",
              "    }\n",
              "\n",
              "    .colab-df-convert:hover {\n",
              "      background-color: #E2EBFA;\n",
              "      box-shadow: 0px 1px 2px rgba(60, 64, 67, 0.3), 0px 1px 3px 1px rgba(60, 64, 67, 0.15);\n",
              "      fill: #174EA6;\n",
              "    }\n",
              "\n",
              "    [theme=dark] .colab-df-convert {\n",
              "      background-color: #3B4455;\n",
              "      fill: #D2E3FC;\n",
              "    }\n",
              "\n",
              "    [theme=dark] .colab-df-convert:hover {\n",
              "      background-color: #434B5C;\n",
              "      box-shadow: 0px 1px 3px 1px rgba(0, 0, 0, 0.15);\n",
              "      filter: drop-shadow(0px 1px 2px rgba(0, 0, 0, 0.3));\n",
              "      fill: #FFFFFF;\n",
              "    }\n",
              "  </style>\n",
              "\n",
              "      <script>\n",
              "        const buttonEl =\n",
              "          document.querySelector('#df-d4a15f50-ec69-49dc-8622-df92037b1622 button.colab-df-convert');\n",
              "        buttonEl.style.display =\n",
              "          google.colab.kernel.accessAllowed ? 'block' : 'none';\n",
              "\n",
              "        async function convertToInteractive(key) {\n",
              "          const element = document.querySelector('#df-d4a15f50-ec69-49dc-8622-df92037b1622');\n",
              "          const dataTable =\n",
              "            await google.colab.kernel.invokeFunction('convertToInteractive',\n",
              "                                                     [key], {});\n",
              "          if (!dataTable) return;\n",
              "\n",
              "          const docLinkHtml = 'Like what you see? Visit the ' +\n",
              "            '<a target=\"_blank\" href=https://colab.research.google.com/notebooks/data_table.ipynb>data table notebook</a>'\n",
              "            + ' to learn more about interactive tables.';\n",
              "          element.innerHTML = '';\n",
              "          dataTable['output_type'] = 'display_data';\n",
              "          await google.colab.output.renderOutput(dataTable, element);\n",
              "          const docLink = document.createElement('div');\n",
              "          docLink.innerHTML = docLinkHtml;\n",
              "          element.appendChild(docLink);\n",
              "        }\n",
              "      </script>\n",
              "    </div>\n",
              "  </div>\n",
              "  "
            ],
            "text/plain": [
              "     SepalLength  SepalWidth  PetalLength  PetalWidth            Name\n",
              "0            5.1         3.5          1.4         0.2     Iris-setosa\n",
              "1            4.9         3.0          1.4         0.2     Iris-setosa\n",
              "2            4.7         3.2          1.3         0.2     Iris-setosa\n",
              "3            4.6         3.1          1.5         0.2     Iris-setosa\n",
              "4            5.0         3.6          1.4         0.2     Iris-setosa\n",
              "..           ...         ...          ...         ...             ...\n",
              "145          6.7         3.0          5.2         2.3  Iris-virginica\n",
              "146          6.3         2.5          5.0         1.9  Iris-virginica\n",
              "147          6.5         3.0          5.2         2.0  Iris-virginica\n",
              "148          6.2         3.4          5.4         2.3  Iris-virginica\n",
              "149          5.9         3.0          5.1         1.8  Iris-virginica\n",
              "\n",
              "[150 rows x 5 columns]"
            ]
          },
          "metadata": {},
          "execution_count": 2
        }
      ]
    },
    {
      "cell_type": "code",
      "source": [
        "sample_data = example_df.groupby('Name').mean()"
      ],
      "metadata": {
        "id": "2M_rnuW2EmlI"
      },
      "execution_count": 3,
      "outputs": []
    },
    {
      "cell_type": "code",
      "source": [
        "sample_data"
      ],
      "metadata": {
        "colab": {
          "base_uri": "https://localhost:8080/",
          "height": 175
        },
        "id": "9lQAvVlGEnX_",
        "outputId": "105ca46c-dbe0-4c12-bcb4-356c54f3dad3"
      },
      "execution_count": 4,
      "outputs": [
        {
          "output_type": "execute_result",
          "data": {
            "text/html": [
              "\n",
              "  <div id=\"df-d669e354-a20c-4f9a-b41f-8ba367bccfac\">\n",
              "    <div class=\"colab-df-container\">\n",
              "      <div>\n",
              "<style scoped>\n",
              "    .dataframe tbody tr th:only-of-type {\n",
              "        vertical-align: middle;\n",
              "    }\n",
              "\n",
              "    .dataframe tbody tr th {\n",
              "        vertical-align: top;\n",
              "    }\n",
              "\n",
              "    .dataframe thead th {\n",
              "        text-align: right;\n",
              "    }\n",
              "</style>\n",
              "<table border=\"1\" class=\"dataframe\">\n",
              "  <thead>\n",
              "    <tr style=\"text-align: right;\">\n",
              "      <th></th>\n",
              "      <th>SepalLength</th>\n",
              "      <th>SepalWidth</th>\n",
              "      <th>PetalLength</th>\n",
              "      <th>PetalWidth</th>\n",
              "    </tr>\n",
              "    <tr>\n",
              "      <th>Name</th>\n",
              "      <th></th>\n",
              "      <th></th>\n",
              "      <th></th>\n",
              "      <th></th>\n",
              "    </tr>\n",
              "  </thead>\n",
              "  <tbody>\n",
              "    <tr>\n",
              "      <th>Iris-setosa</th>\n",
              "      <td>5.006</td>\n",
              "      <td>3.418</td>\n",
              "      <td>1.464</td>\n",
              "      <td>0.244</td>\n",
              "    </tr>\n",
              "    <tr>\n",
              "      <th>Iris-versicolor</th>\n",
              "      <td>5.936</td>\n",
              "      <td>2.770</td>\n",
              "      <td>4.260</td>\n",
              "      <td>1.326</td>\n",
              "    </tr>\n",
              "    <tr>\n",
              "      <th>Iris-virginica</th>\n",
              "      <td>6.588</td>\n",
              "      <td>2.974</td>\n",
              "      <td>5.552</td>\n",
              "      <td>2.026</td>\n",
              "    </tr>\n",
              "  </tbody>\n",
              "</table>\n",
              "</div>\n",
              "      <button class=\"colab-df-convert\" onclick=\"convertToInteractive('df-d669e354-a20c-4f9a-b41f-8ba367bccfac')\"\n",
              "              title=\"Convert this dataframe to an interactive table.\"\n",
              "              style=\"display:none;\">\n",
              "        \n",
              "  <svg xmlns=\"http://www.w3.org/2000/svg\" height=\"24px\"viewBox=\"0 0 24 24\"\n",
              "       width=\"24px\">\n",
              "    <path d=\"M0 0h24v24H0V0z\" fill=\"none\"/>\n",
              "    <path d=\"M18.56 5.44l.94 2.06.94-2.06 2.06-.94-2.06-.94-.94-2.06-.94 2.06-2.06.94zm-11 1L8.5 8.5l.94-2.06 2.06-.94-2.06-.94L8.5 2.5l-.94 2.06-2.06.94zm10 10l.94 2.06.94-2.06 2.06-.94-2.06-.94-.94-2.06-.94 2.06-2.06.94z\"/><path d=\"M17.41 7.96l-1.37-1.37c-.4-.4-.92-.59-1.43-.59-.52 0-1.04.2-1.43.59L10.3 9.45l-7.72 7.72c-.78.78-.78 2.05 0 2.83L4 21.41c.39.39.9.59 1.41.59.51 0 1.02-.2 1.41-.59l7.78-7.78 2.81-2.81c.8-.78.8-2.07 0-2.86zM5.41 20L4 18.59l7.72-7.72 1.47 1.35L5.41 20z\"/>\n",
              "  </svg>\n",
              "      </button>\n",
              "      \n",
              "  <style>\n",
              "    .colab-df-container {\n",
              "      display:flex;\n",
              "      flex-wrap:wrap;\n",
              "      gap: 12px;\n",
              "    }\n",
              "\n",
              "    .colab-df-convert {\n",
              "      background-color: #E8F0FE;\n",
              "      border: none;\n",
              "      border-radius: 50%;\n",
              "      cursor: pointer;\n",
              "      display: none;\n",
              "      fill: #1967D2;\n",
              "      height: 32px;\n",
              "      padding: 0 0 0 0;\n",
              "      width: 32px;\n",
              "    }\n",
              "\n",
              "    .colab-df-convert:hover {\n",
              "      background-color: #E2EBFA;\n",
              "      box-shadow: 0px 1px 2px rgba(60, 64, 67, 0.3), 0px 1px 3px 1px rgba(60, 64, 67, 0.15);\n",
              "      fill: #174EA6;\n",
              "    }\n",
              "\n",
              "    [theme=dark] .colab-df-convert {\n",
              "      background-color: #3B4455;\n",
              "      fill: #D2E3FC;\n",
              "    }\n",
              "\n",
              "    [theme=dark] .colab-df-convert:hover {\n",
              "      background-color: #434B5C;\n",
              "      box-shadow: 0px 1px 3px 1px rgba(0, 0, 0, 0.15);\n",
              "      filter: drop-shadow(0px 1px 2px rgba(0, 0, 0, 0.3));\n",
              "      fill: #FFFFFF;\n",
              "    }\n",
              "  </style>\n",
              "\n",
              "      <script>\n",
              "        const buttonEl =\n",
              "          document.querySelector('#df-d669e354-a20c-4f9a-b41f-8ba367bccfac button.colab-df-convert');\n",
              "        buttonEl.style.display =\n",
              "          google.colab.kernel.accessAllowed ? 'block' : 'none';\n",
              "\n",
              "        async function convertToInteractive(key) {\n",
              "          const element = document.querySelector('#df-d669e354-a20c-4f9a-b41f-8ba367bccfac');\n",
              "          const dataTable =\n",
              "            await google.colab.kernel.invokeFunction('convertToInteractive',\n",
              "                                                     [key], {});\n",
              "          if (!dataTable) return;\n",
              "\n",
              "          const docLinkHtml = 'Like what you see? Visit the ' +\n",
              "            '<a target=\"_blank\" href=https://colab.research.google.com/notebooks/data_table.ipynb>data table notebook</a>'\n",
              "            + ' to learn more about interactive tables.';\n",
              "          element.innerHTML = '';\n",
              "          dataTable['output_type'] = 'display_data';\n",
              "          await google.colab.output.renderOutput(dataTable, element);\n",
              "          const docLink = document.createElement('div');\n",
              "          docLink.innerHTML = docLinkHtml;\n",
              "          element.appendChild(docLink);\n",
              "        }\n",
              "      </script>\n",
              "    </div>\n",
              "  </div>\n",
              "  "
            ],
            "text/plain": [
              "                 SepalLength  SepalWidth  PetalLength  PetalWidth\n",
              "Name                                                             \n",
              "Iris-setosa            5.006       3.418        1.464       0.244\n",
              "Iris-versicolor        5.936       2.770        4.260       1.326\n",
              "Iris-virginica         6.588       2.974        5.552       2.026"
            ]
          },
          "metadata": {},
          "execution_count": 4
        }
      ]
    },
    {
      "cell_type": "code",
      "source": [
        "sample_data.iloc[0,:]"
      ],
      "metadata": {
        "colab": {
          "base_uri": "https://localhost:8080/"
        },
        "id": "3-Aa33MdEoRL",
        "outputId": "ed068205-8973-44c8-8e83-d17fe1c95a11"
      },
      "execution_count": 5,
      "outputs": [
        {
          "output_type": "execute_result",
          "data": {
            "text/plain": [
              "SepalLength    5.006\n",
              "SepalWidth     3.418\n",
              "PetalLength    1.464\n",
              "PetalWidth     0.244\n",
              "Name: Iris-setosa, dtype: float64"
            ]
          },
          "metadata": {},
          "execution_count": 5
        }
      ]
    },
    {
      "cell_type": "code",
      "source": [
        "from matplotlib import pyplot as plt"
      ],
      "metadata": {
        "id": "Ux5ys3CnEpG0"
      },
      "execution_count": 6,
      "outputs": []
    },
    {
      "cell_type": "code",
      "source": [
        "plt.plot([1,2,3,4],sample_data.iloc[0,:],'ro-')\n",
        "plt.plot([1,2,3,4],sample_data.iloc[1,:],'g*-')\n",
        "plt.plot([1,2,3,4],sample_data.iloc[2,:],'b^-')"
      ],
      "metadata": {
        "colab": {
          "base_uri": "https://localhost:8080/",
          "height": 283
        },
        "id": "cG9ivuS6EqKK",
        "outputId": "53048545-7e12-454f-ff62-adf7766e0885"
      },
      "execution_count": 7,
      "outputs": [
        {
          "output_type": "execute_result",
          "data": {
            "text/plain": [
              "[<matplotlib.lines.Line2D at 0x7f3bbbb63bd0>]"
            ]
          },
          "metadata": {},
          "execution_count": 7
        },
        {
          "output_type": "display_data",
          "data": {
            "image/png": "[encoded data removed]",
            "text/plain": [
              "<Figure size 432x288 with 1 Axes>"
            ]
          },
          "metadata": {
            "needs_background": "light"
          }
        }
      ]
    },
    {
      "cell_type": "code",
      "source": [
        "plt.plot([1,1],[min(sample_data.iloc[:,0]),max(sample_data.iloc[:,0])],'c:')\n",
        "plt.plot([2,2],[min(sample_data.iloc[:,1]),max(sample_data.iloc[:,1])],'c:')\n",
        "plt.plot([3,3],[min(sample_data.iloc[:,2]),max(sample_data.iloc[:,2])],'c:')\n",
        "plt.plot([4,4],[min(sample_data.iloc[:,3]),max(sample_data.iloc[:,3])],'c:')\n",
        "\n",
        "plt.plot([1,2,3,4],sample_data.iloc[0,:],'ro')\n",
        "plt.plot([1,2,3,4],sample_data.iloc[1,:],'g*')\n",
        "plt.plot([1,2,3,4],sample_data.iloc[2,:],'b^')"
      ],
      "metadata": {
        "colab": {
          "base_uri": "https://localhost:8080/",
          "height": 283
        },
        "id": "___4Y4EGErPO",
        "outputId": "216e1056-a564-4305-bfdb-3066c07290cd"
      },
      "execution_count": 8,
      "outputs": [
        {
          "output_type": "execute_result",
          "data": {
            "text/plain": [
              "[<matplotlib.lines.Line2D at 0x7f3bbb668290>]"
            ]
          },
          "metadata": {},
          "execution_count": 8
        },
        {
          "output_type": "display_data",
          "data": {
            "image/png": "[encoded data removed]",
            "text/plain": [
              "<Figure size 432x288 with 1 Axes>"
            ]
          },
          "metadata": {
            "needs_background": "light"
          }
        }
      ]
    },
    {
      "cell_type": "markdown",
      "source": [
        "## การใช้ plt.plot\n",
        "`plt.plot`(`พิกัดแกน X`, `พิกัดแกน Y`, `ลักษณะของ marker + เส้นเชื่อม`)\n",
        "\n",
        "marker -> 'cML'"
      ],
      "metadata": {
        "id": "cQWYExn4EwmT"
      }
    },
    {
      "cell_type": "code",
      "source": [
        "plt.plot([1],[2],'ro')"
      ],
      "metadata": {
        "colab": {
          "base_uri": "https://localhost:8080/",
          "height": 283
        },
        "id": "oNAs-VADEsoU",
        "outputId": "c54d718e-3b8c-4089-cd90-3427f57014e6"
      },
      "execution_count": 9,
      "outputs": [
        {
          "output_type": "execute_result",
          "data": {
            "text/plain": [
              "[<matplotlib.lines.Line2D at 0x7f3bbb5dad90>]"
            ]
          },
          "metadata": {},
          "execution_count": 9
        },
        {
          "output_type": "display_data",
          "data": {
            "image/png": "[encoded data removed]",
            "text/plain": [
              "<Figure size 432x288 with 1 Axes>"
            ]
          },
          "metadata": {
            "needs_background": "light"
          }
        }
      ]
    },
    {
      "cell_type": "code",
      "source": [
        "plt.plot([1,2],[2,4],'ro')"
      ],
      "metadata": {
        "colab": {
          "base_uri": "https://localhost:8080/",
          "height": 283
        },
        "id": "hZp_gVN0Ex0_",
        "outputId": "f30d814a-0e2e-43a4-c6a8-647e3b21f2ab"
      },
      "execution_count": 10,
      "outputs": [
        {
          "output_type": "execute_result",
          "data": {
            "text/plain": [
              "[<matplotlib.lines.Line2D at 0x7f3bbb5505d0>]"
            ]
          },
          "metadata": {},
          "execution_count": 10
        },
        {
          "output_type": "display_data",
          "data": {
            "image/png": "[encoded data removed]",
            "text/plain": [
              "<Figure size 432x288 with 1 Axes>"
            ]
          },
          "metadata": {
            "needs_background": "light"
          }
        }
      ]
    },
    {
      "cell_type": "code",
      "source": [
        "plt.plot([1,2],[2,4],'ro-.')"
      ],
      "metadata": {
        "colab": {
          "base_uri": "https://localhost:8080/",
          "height": 283
        },
        "id": "yDXsnoWuEy4S",
        "outputId": "9552471c-2c9e-464c-ff94-6f6278ebc932"
      },
      "execution_count": 11,
      "outputs": [
        {
          "output_type": "execute_result",
          "data": {
            "text/plain": [
              "[<matplotlib.lines.Line2D at 0x7f3bbb546550>]"
            ]
          },
          "metadata": {},
          "execution_count": 11
        },
        {
          "output_type": "display_data",
          "data": {
            "image/png": "[encoded data removed]",
            "text/plain": [
              "<Figure size 432x288 with 1 Axes>"
            ]
          },
          "metadata": {
            "needs_background": "light"
          }
        }
      ]
    },
    {
      "cell_type": "code",
      "source": [
        "plt.plot([1,1],[min(sample_data.iloc[:,0]),max(sample_data.iloc[:,0])],'c:')\n",
        "plt.plot([2,2],[min(sample_data.iloc[:,1]),max(sample_data.iloc[:,1])],'c:')\n",
        "plt.plot([3,3],[min(sample_data.iloc[:,2]),max(sample_data.iloc[:,2])],'c:')\n",
        "plt.plot([4,4],[min(sample_data.iloc[:,3]),max(sample_data.iloc[:,3])],'c:')\n",
        "\n",
        "plt.plot([1,2,3,4],sample_data.iloc[0,:],'ro',label='Setosa')\n",
        "plt.plot([1,2,3,4],sample_data.iloc[1,:],'g*',label='Versicolor')\n",
        "plt.plot([1,2,3,4],sample_data.iloc[2,:],'b^',label='Virginica')\n",
        "plt.legend()"
      ],
      "metadata": {
        "colab": {
          "base_uri": "https://localhost:8080/",
          "height": 283
        },
        "id": "vpFasuXvE0Ec",
        "outputId": "13aba718-741a-4b0c-84bf-755e68bcc17b"
      },
      "execution_count": 12,
      "outputs": [
        {
          "output_type": "execute_result",
          "data": {
            "text/plain": [
              "<matplotlib.legend.Legend at 0x7f3bbb4fd9d0>"
            ]
          },
          "metadata": {},
          "execution_count": 12
        },
        {
          "output_type": "display_data",
          "data": {
            "image/png": "[encoded data removed]",
            "text/plain": [
              "<Figure size 432x288 with 1 Axes>"
            ]
          },
          "metadata": {
            "needs_background": "light"
          }
        }
      ]
    },
    {
      "cell_type": "code",
      "source": [
        "example_df.iloc[:,:-1].columns.tolist()"
      ],
      "metadata": {
        "colab": {
          "base_uri": "https://localhost:8080/"
        },
        "id": "on7i-QdPE1iG",
        "outputId": "9657e875-1f12-4330-d7f9-1bf2adc42083"
      },
      "execution_count": 13,
      "outputs": [
        {
          "output_type": "execute_result",
          "data": {
            "text/plain": [
              "['SepalLength', 'SepalWidth', 'PetalLength', 'PetalWidth']"
            ]
          },
          "metadata": {},
          "execution_count": 13
        }
      ]
    },
    {
      "cell_type": "code",
      "source": [
        "plt.plot([1,1],[min(sample_data.iloc[:,0]),max(sample_data.iloc[:,0])],'c:')\n",
        "plt.plot([2,2],[min(sample_data.iloc[:,1]),max(sample_data.iloc[:,1])],'c:')\n",
        "plt.plot([3,3],[min(sample_data.iloc[:,2]),max(sample_data.iloc[:,2])],'c:')\n",
        "plt.plot([4,4],[min(sample_data.iloc[:,3]),max(sample_data.iloc[:,3])],'c:')\n",
        "\n",
        "plt.plot([1,2,3,4],sample_data.iloc[0,:],'ro',label='Setosa')\n",
        "plt.plot([1,2,3,4],sample_data.iloc[1,:],'g*',label='Versicolor')\n",
        "plt.plot([1,2,3,4],sample_data.iloc[2,:],'b^',label='Virginica')\n",
        "plt.legend()\n",
        "plt.xticks([1,2,3,4], example_df.iloc[:,:-1].columns.tolist(), rotation='vertical')"
      ],
      "metadata": {
        "colab": {
          "base_uri": "https://localhost:8080/",
          "height": 456
        },
        "id": "6Fp2EaRWE22B",
        "outputId": "6127836a-3970-4147-bed0-6ea6fedb3e77"
      },
      "execution_count": 14,
      "outputs": [
        {
          "output_type": "execute_result",
          "data": {
            "text/plain": [
              "([<matplotlib.axis.XTick at 0x7f3bbb668d90>,\n",
              "  <matplotlib.axis.XTick at 0x7f3bbb668490>,\n",
              "  <matplotlib.axis.XTick at 0x7f3bbb6208d0>,\n",
              "  <matplotlib.axis.XTick at 0x7f3bbb57d550>],\n",
              " [Text(0, 0, 'SepalLength'),\n",
              "  Text(0, 0, 'SepalWidth'),\n",
              "  Text(0, 0, 'PetalLength'),\n",
              "  Text(0, 0, 'PetalWidth')])"
            ]
          },
          "metadata": {},
          "execution_count": 14
        },
        {
          "output_type": "display_data",
          "data": {
            "image/png": "[encoded data removed]",
            "text/plain": [
              "<Figure size 432x288 with 1 Axes>"
            ]
          },
          "metadata": {
            "needs_background": "light"
          }
        }
      ]
    },
    {
      "cell_type": "code",
      "source": [
        "plt.plot([1,1],[min(sample_data.iloc[:,0]),max(sample_data.iloc[:,0])],'c:')\n",
        "plt.plot([2,2],[min(sample_data.iloc[:,1]),max(sample_data.iloc[:,1])],'c:')\n",
        "plt.plot([3,3],[min(sample_data.iloc[:,2]),max(sample_data.iloc[:,2])],'c:')\n",
        "plt.plot([4,4],[min(sample_data.iloc[:,3]),max(sample_data.iloc[:,3])],'c:')\n",
        "\n",
        "plt.plot([1,2,3,4],sample_data.iloc[0,:],'ro',label='Setosa')\n",
        "plt.plot([1,2,3,4],sample_data.iloc[1,:],'g*',label='Versicolor')\n",
        "plt.plot([1,2,3,4],sample_data.iloc[2,:],'b^',label='Virginica')\n",
        "plt.legend()\n",
        "plt.xticks([1,2,3,4], example_df.iloc[:,:-1].columns.tolist(), rotation='vertical')\n",
        "plt.title('Features comparison between 3 different Iris flowers');"
      ],
      "metadata": {
        "colab": {
          "base_uri": "https://localhost:8080/",
          "height": 333
        },
        "id": "DH1Ex0AFE36u",
        "outputId": "c0d8ab34-5215-423f-ac19-384b4f9ff8ea"
      },
      "execution_count": 15,
      "outputs": [
        {
          "output_type": "display_data",
          "data": {
            "image/png": "[encoded data removed]",
            "text/plain": [
              "<Figure size 432x288 with 1 Axes>"
            ]
          },
          "metadata": {
            "needs_background": "light"
          }
        }
      ]
    },
    {
      "cell_type": "code",
      "source": [
        "plt.plot([1,1],[min(sample_data.iloc[:,0]),max(sample_data.iloc[:,0])],'c:')\n",
        "plt.plot([2,2],[min(sample_data.iloc[:,1]),max(sample_data.iloc[:,1])],'c:')\n",
        "plt.plot([3,3],[min(sample_data.iloc[:,2]),max(sample_data.iloc[:,2])],'c:')\n",
        "plt.plot([4,4],[min(sample_data.iloc[:,3]),max(sample_data.iloc[:,3])],'c:')\n",
        "\n",
        "plt.plot([1,2,3,4],sample_data.iloc[0,:],'ro',label='Setosa')\n",
        "plt.plot([1,2,3,4],sample_data.iloc[1,:],'g*',label='Versicolor')\n",
        "plt.plot([1,2,3,4],sample_data.iloc[2,:],'b^',label='Virginica')\n",
        "\n",
        "plt.legend()\n",
        "plt.xticks([1,2,3,4], example_df.iloc[:,:-1].columns.tolist(), rotation='vertical')\n",
        "plt.title('Features comparison between 3 different Iris flowers')\n",
        "plt.ylabel('size (cm)');"
      ],
      "metadata": {
        "colab": {
          "base_uri": "https://localhost:8080/",
          "height": 333
        },
        "id": "WZ25rmn5E5Ip",
        "outputId": "44a02d95-2b8b-448a-be5d-4c0f57db5a41"
      },
      "execution_count": 16,
      "outputs": [
        {
          "output_type": "display_data",
          "data": {
            "image/png": "[encoded data removed]",
            "text/plain": [
              "<Figure size 432x288 with 1 Axes>"
            ]
          },
          "metadata": {
            "needs_background": "light"
          }
        }
      ]
    },
    {
      "cell_type": "code",
      "source": [
        "!wget -q https://github.com/Phonbopit/sarabun-webfont/raw/master/fonts/thsarabunnew-webfont.ttf"
      ],
      "metadata": {
        "id": "Kc2CcvSdRkd6"
      },
      "execution_count": 17,
      "outputs": []
    },
    {
      "cell_type": "code",
      "source": [
        "!ls"
      ],
      "metadata": {
        "id": "tysbH57YRlUt",
        "outputId": "4c63503a-bf96-4290-909f-038e7f61b593",
        "colab": {
          "base_uri": "https://localhost:8080/"
        }
      },
      "execution_count": 18,
      "outputs": [
        {
          "output_type": "stream",
          "name": "stdout",
          "text": [
            "sample_data  thsarabunnew-webfont.ttf\n"
          ]
        }
      ]
    },
    {
      "cell_type": "code",
      "source": [
        "import matplotlib as mpl\n",
        "mpl.font_manager.fontManager.addfont('thsarabunnew-webfont.ttf')\n",
        "mpl.rc('font', family='TH Sarabun New')"
      ],
      "metadata": {
        "id": "ddBmKUT-Rmrb"
      },
      "execution_count": 19,
      "outputs": []
    },
    {
      "cell_type": "markdown",
      "source": [
        "#**HW วาดรูป ก้อนเมฆ และ ฝน ด้วย plt.plot**"
      ],
      "metadata": {
        "id": "h3_P4PVdE8Kw"
      }
    },
    {
      "cell_type": "code",
      "source": [
        "# ก้อนเมฆ\n",
        "plt.plot([1,2,3,4,5,6,7],[7,5,7,5,7,5,7],'k-')\n",
        "plt.plot([1,2,3,4,5,6,7],[7,9,7,9,7,9,7],'b-')\n",
        "\n",
        "# ฝน\n",
        "plt.plot([1,1],[2,5],'c-.')\n",
        "plt.plot([1.5,1.5],[1,5],'c-.')\n",
        "plt.plot([2,2],[3,5],'c-.')\n",
        "plt.plot([2.5,2.5],[1,3],'c-.')\n",
        "plt.plot([3,3],[3,6],'c-.')\n",
        "plt.plot([3.5,3.5],[2,5],'c-.')\n",
        "plt.plot([4,4],[1,5],'c-.')\n",
        "plt.plot([4.5,4.5],[2,5],'c-.')\n",
        "plt.plot([5,5],[2,4],'c-.')\n",
        "plt.plot([5.5,5.5],[1,5.5],'c-.')\n",
        "plt.plot([6,6],[1,3],'c-.')\n",
        "plt.plot([6.5,6.5],[3,5],'c-.')\n",
        "plt.plot([7,7],[3,6],'c-.')\n",
        "\n",
        "plt.title('ก้อนเมฆและฝน');"
      ],
      "metadata": {
        "id": "8PXlqO7dE6t-",
        "outputId": "25b674b0-4857-42c8-e74b-7c1b18c9ad8e",
        "colab": {
          "base_uri": "https://localhost:8080/",
          "height": 282
        }
      },
      "execution_count": 20,
      "outputs": [
        {
          "output_type": "display_data",
          "data": {
            "image/png": "[encoded data removed]",
            "text/plain": [
              "<Figure size 432x288 with 1 Axes>"
            ]
          },
          "metadata": {
            "needs_background": "light"
          }
        }
      ]
    },
    {
      "cell_type": "markdown",
      "source": [
        "# Bar chart "
      ],
      "metadata": {
        "id": "wDyWTYpeXLuF"
      }
    },
    {
      "cell_type": "code",
      "source": [
        "sample_data"
      ],
      "metadata": {
        "id": "BR1NG2VLLy_l",
        "outputId": "ef9afba2-0d85-46b8-8558-15829e1ac56f",
        "colab": {
          "base_uri": "https://localhost:8080/",
          "height": 175
        }
      },
      "execution_count": 21,
      "outputs": [
        {
          "output_type": "execute_result",
          "data": {
            "text/html": [
              "\n",
              "  <div id=\"df-80d835d4-440d-4a7d-a36c-0c489c70203b\">\n",
              "    <div class=\"colab-df-container\">\n",
              "      <div>\n",
              "<style scoped>\n",
              "    .dataframe tbody tr th:only-of-type {\n",
              "        vertical-align: middle;\n",
              "    }\n",
              "\n",
              "    .dataframe tbody tr th {\n",
              "        vertical-align: top;\n",
              "    }\n",
              "\n",
              "    .dataframe thead th {\n",
              "        text-align: right;\n",
              "    }\n",
              "</style>\n",
              "<table border=\"1\" class=\"dataframe\">\n",
              "  <thead>\n",
              "    <tr style=\"text-align: right;\">\n",
              "      <th></th>\n",
              "      <th>SepalLength</th>\n",
              "      <th>SepalWidth</th>\n",
              "      <th>PetalLength</th>\n",
              "      <th>PetalWidth</th>\n",
              "    </tr>\n",
              "    <tr>\n",
              "      <th>Name</th>\n",
              "      <th></th>\n",
              "      <th></th>\n",
              "      <th></th>\n",
              "      <th></th>\n",
              "    </tr>\n",
              "  </thead>\n",
              "  <tbody>\n",
              "    <tr>\n",
              "      <th>Iris-setosa</th>\n",
              "      <td>5.006</td>\n",
              "      <td>3.418</td>\n",
              "      <td>1.464</td>\n",
              "      <td>0.244</td>\n",
              "    </tr>\n",
              "    <tr>\n",
              "      <th>Iris-versicolor</th>\n",
              "      <td>5.936</td>\n",
              "      <td>2.770</td>\n",
              "      <td>4.260</td>\n",
              "      <td>1.326</td>\n",
              "    </tr>\n",
              "    <tr>\n",
              "      <th>Iris-virginica</th>\n",
              "      <td>6.588</td>\n",
              "      <td>2.974</td>\n",
              "      <td>5.552</td>\n",
              "      <td>2.026</td>\n",
              "    </tr>\n",
              "  </tbody>\n",
              "</table>\n",
              "</div>\n",
              "      <button class=\"colab-df-convert\" onclick=\"convertToInteractive('df-80d835d4-440d-4a7d-a36c-0c489c70203b')\"\n",
              "              title=\"Convert this dataframe to an interactive table.\"\n",
              "              style=\"display:none;\">\n",
              "        \n",
              "  <svg xmlns=\"http://www.w3.org/2000/svg\" height=\"24px\"viewBox=\"0 0 24 24\"\n",
              "       width=\"24px\">\n",
              "    <path d=\"M0 0h24v24H0V0z\" fill=\"none\"/>\n",
              "    <path d=\"M18.56 5.44l.94 2.06.94-2.06 2.06-.94-2.06-.94-.94-2.06-.94 2.06-2.06.94zm-11 1L8.5 8.5l.94-2.06 2.06-.94-2.06-.94L8.5 2.5l-.94 2.06-2.06.94zm10 10l.94 2.06.94-2.06 2.06-.94-2.06-.94-.94-2.06-.94 2.06-2.06.94z\"/><path d=\"M17.41 7.96l-1.37-1.37c-.4-.4-.92-.59-1.43-.59-.52 0-1.04.2-1.43.59L10.3 9.45l-7.72 7.72c-.78.78-.78 2.05 0 2.83L4 21.41c.39.39.9.59 1.41.59.51 0 1.02-.2 1.41-.59l7.78-7.78 2.81-2.81c.8-.78.8-2.07 0-2.86zM5.41 20L4 18.59l7.72-7.72 1.47 1.35L5.41 20z\"/>\n",
              "  </svg>\n",
              "      </button>\n",
              "      \n",
              "  <style>\n",
              "    .colab-df-container {\n",
              "      display:flex;\n",
              "      flex-wrap:wrap;\n",
              "      gap: 12px;\n",
              "    }\n",
              "\n",
              "    .colab-df-convert {\n",
              "      background-color: #E8F0FE;\n",
              "      border: none;\n",
              "      border-radius: 50%;\n",
              "      cursor: pointer;\n",
              "      display: none;\n",
              "      fill: #1967D2;\n",
              "      height: 32px;\n",
              "      padding: 0 0 0 0;\n",
              "      width: 32px;\n",
              "    }\n",
              "\n",
              "    .colab-df-convert:hover {\n",
              "      background-color: #E2EBFA;\n",
              "      box-shadow: 0px 1px 2px rgba(60, 64, 67, 0.3), 0px 1px 3px 1px rgba(60, 64, 67, 0.15);\n",
              "      fill: #174EA6;\n",
              "    }\n",
              "\n",
              "    [theme=dark] .colab-df-convert {\n",
              "      background-color: #3B4455;\n",
              "      fill: #D2E3FC;\n",
              "    }\n",
              "\n",
              "    [theme=dark] .colab-df-convert:hover {\n",
              "      background-color: #434B5C;\n",
              "      box-shadow: 0px 1px 3px 1px rgba(0, 0, 0, 0.15);\n",
              "      filter: drop-shadow(0px 1px 2px rgba(0, 0, 0, 0.3));\n",
              "      fill: #FFFFFF;\n",
              "    }\n",
              "  </style>\n",
              "\n",
              "      <script>\n",
              "        const buttonEl =\n",
              "          document.querySelector('#df-80d835d4-440d-4a7d-a36c-0c489c70203b button.colab-df-convert');\n",
              "        buttonEl.style.display =\n",
              "          google.colab.kernel.accessAllowed ? 'block' : 'none';\n",
              "\n",
              "        async function convertToInteractive(key) {\n",
              "          const element = document.querySelector('#df-80d835d4-440d-4a7d-a36c-0c489c70203b');\n",
              "          const dataTable =\n",
              "            await google.colab.kernel.invokeFunction('convertToInteractive',\n",
              "                                                     [key], {});\n",
              "          if (!dataTable) return;\n",
              "\n",
              "          const docLinkHtml = 'Like what you see? Visit the ' +\n",
              "            '<a target=\"_blank\" href=https://colab.research.google.com/notebooks/data_table.ipynb>data table notebook</a>'\n",
              "            + ' to learn more about interactive tables.';\n",
              "          element.innerHTML = '';\n",
              "          dataTable['output_type'] = 'display_data';\n",
              "          await google.colab.output.renderOutput(dataTable, element);\n",
              "          const docLink = document.createElement('div');\n",
              "          docLink.innerHTML = docLinkHtml;\n",
              "          element.appendChild(docLink);\n",
              "        }\n",
              "      </script>\n",
              "    </div>\n",
              "  </div>\n",
              "  "
            ],
            "text/plain": [
              "                 SepalLength  SepalWidth  PetalLength  PetalWidth\n",
              "Name                                                             \n",
              "Iris-setosa            5.006       3.418        1.464       0.244\n",
              "Iris-versicolor        5.936       2.770        4.260       1.326\n",
              "Iris-virginica         6.588       2.974        5.552       2.026"
            ]
          },
          "metadata": {},
          "execution_count": 21
        }
      ]
    },
    {
      "cell_type": "code",
      "source": [
        "sample_data['PetalLength']"
      ],
      "metadata": {
        "id": "uFx3hyvbbEvu",
        "outputId": "d06bb599-7a6a-4db7-c183-0e8a2a497160",
        "colab": {
          "base_uri": "https://localhost:8080/"
        }
      },
      "execution_count": 22,
      "outputs": [
        {
          "output_type": "execute_result",
          "data": {
            "text/plain": [
              "Name\n",
              "Iris-setosa        1.464\n",
              "Iris-versicolor    4.260\n",
              "Iris-virginica     5.552\n",
              "Name: PetalLength, dtype: float64"
            ]
          },
          "metadata": {},
          "execution_count": 22
        }
      ]
    },
    {
      "cell_type": "code",
      "source": [
        "sample_data['PetalLength'][0]"
      ],
      "metadata": {
        "id": "9Lrh0tcXtyMd",
        "outputId": "7d664e02-edd6-4a89-bf4c-2c052dca7618",
        "colab": {
          "base_uri": "https://localhost:8080/"
        }
      },
      "execution_count": 23,
      "outputs": [
        {
          "output_type": "execute_result",
          "data": {
            "text/plain": [
              "1.464"
            ]
          },
          "metadata": {},
          "execution_count": 23
        }
      ]
    },
    {
      "cell_type": "markdown",
      "source": [
        "##เปรียบเทียบปริมาณ มากกว่า 1 ปริมาณของ object หลาย class"
      ],
      "metadata": {
        "id": "jLE3WRHWd_OG"
      }
    },
    {
      "cell_type": "code",
      "source": [
        "plt.bar([1,2,3],sample_data['PetalLength'])"
      ],
      "metadata": {
        "id": "_wJlzPMIt2Pb",
        "outputId": "c6a27f6e-ab46-4315-bb1c-104d8c18bfd3",
        "colab": {
          "base_uri": "https://localhost:8080/",
          "height": 282
        }
      },
      "execution_count": 24,
      "outputs": [
        {
          "output_type": "execute_result",
          "data": {
            "text/plain": [
              "<BarContainer object of 3 artists>"
            ]
          },
          "metadata": {},
          "execution_count": 24
        },
        {
          "output_type": "display_data",
          "data": {
            "image/png": "[encoded data removed]",
            "text/plain": [
              "<Figure size 432x288 with 1 Axes>"
            ]
          },
          "metadata": {
            "needs_background": "light"
          }
        }
      ]
    },
    {
      "cell_type": "code",
      "source": [
        "sample_data.reset_index()"
      ],
      "metadata": {
        "id": "g9-nWPLQt4Jv",
        "outputId": "1a5c9326-2bd6-478b-941d-f431b6af562d",
        "colab": {
          "base_uri": "https://localhost:8080/",
          "height": 143
        }
      },
      "execution_count": 25,
      "outputs": [
        {
          "output_type": "execute_result",
          "data": {
            "text/html": [
              "\n",
              "  <div id=\"df-3c5dbfdb-7c40-4ebb-98e0-44b134be7311\">\n",
              "    <div class=\"colab-df-container\">\n",
              "      <div>\n",
              "<style scoped>\n",
              "    .dataframe tbody tr th:only-of-type {\n",
              "        vertical-align: middle;\n",
              "    }\n",
              "\n",
              "    .dataframe tbody tr th {\n",
              "        vertical-align: top;\n",
              "    }\n",
              "\n",
              "    .dataframe thead th {\n",
              "        text-align: right;\n",
              "    }\n",
              "</style>\n",
              "<table border=\"1\" class=\"dataframe\">\n",
              "  <thead>\n",
              "    <tr style=\"text-align: right;\">\n",
              "      <th></th>\n",
              "      <th>Name</th>\n",
              "      <th>SepalLength</th>\n",
              "      <th>SepalWidth</th>\n",
              "      <th>PetalLength</th>\n",
              "      <th>PetalWidth</th>\n",
              "    </tr>\n",
              "  </thead>\n",
              "  <tbody>\n",
              "    <tr>\n",
              "      <th>0</th>\n",
              "      <td>Iris-setosa</td>\n",
              "      <td>5.006</td>\n",
              "      <td>3.418</td>\n",
              "      <td>1.464</td>\n",
              "      <td>0.244</td>\n",
              "    </tr>\n",
              "    <tr>\n",
              "      <th>1</th>\n",
              "      <td>Iris-versicolor</td>\n",
              "      <td>5.936</td>\n",
              "      <td>2.770</td>\n",
              "      <td>4.260</td>\n",
              "      <td>1.326</td>\n",
              "    </tr>\n",
              "    <tr>\n",
              "      <th>2</th>\n",
              "      <td>Iris-virginica</td>\n",
              "      <td>6.588</td>\n",
              "      <td>2.974</td>\n",
              "      <td>5.552</td>\n",
              "      <td>2.026</td>\n",
              "    </tr>\n",
              "  </tbody>\n",
              "</table>\n",
              "</div>\n",
              "      <button class=\"colab-df-convert\" onclick=\"convertToInteractive('df-3c5dbfdb-7c40-4ebb-98e0-44b134be7311')\"\n",
              "              title=\"Convert this dataframe to an interactive table.\"\n",
              "              style=\"display:none;\">\n",
              "        \n",
              "  <svg xmlns=\"http://www.w3.org/2000/svg\" height=\"24px\"viewBox=\"0 0 24 24\"\n",
              "       width=\"24px\">\n",
              "    <path d=\"M0 0h24v24H0V0z\" fill=\"none\"/>\n",
              "    <path d=\"M18.56 5.44l.94 2.06.94-2.06 2.06-.94-2.06-.94-.94-2.06-.94 2.06-2.06.94zm-11 1L8.5 8.5l.94-2.06 2.06-.94-2.06-.94L8.5 2.5l-.94 2.06-2.06.94zm10 10l.94 2.06.94-2.06 2.06-.94-2.06-.94-.94-2.06-.94 2.06-2.06.94z\"/><path d=\"M17.41 7.96l-1.37-1.37c-.4-.4-.92-.59-1.43-.59-.52 0-1.04.2-1.43.59L10.3 9.45l-7.72 7.72c-.78.78-.78 2.05 0 2.83L4 21.41c.39.39.9.59 1.41.59.51 0 1.02-.2 1.41-.59l7.78-7.78 2.81-2.81c.8-.78.8-2.07 0-2.86zM5.41 20L4 18.59l7.72-7.72 1.47 1.35L5.41 20z\"/>\n",
              "  </svg>\n",
              "      </button>\n",
              "      \n",
              "  <style>\n",
              "    .colab-df-container {\n",
              "      display:flex;\n",
              "      flex-wrap:wrap;\n",
              "      gap: 12px;\n",
              "    }\n",
              "\n",
              "    .colab-df-convert {\n",
              "      background-color: #E8F0FE;\n",
              "      border: none;\n",
              "      border-radius: 50%;\n",
              "      cursor: pointer;\n",
              "      display: none;\n",
              "      fill: #1967D2;\n",
              "      height: 32px;\n",
              "      padding: 0 0 0 0;\n",
              "      width: 32px;\n",
              "    }\n",
              "\n",
              "    .colab-df-convert:hover {\n",
              "      background-color: #E2EBFA;\n",
              "      box-shadow: 0px 1px 2px rgba(60, 64, 67, 0.3), 0px 1px 3px 1px rgba(60, 64, 67, 0.15);\n",
              "      fill: #174EA6;\n",
              "    }\n",
              "\n",
              "    [theme=dark] .colab-df-convert {\n",
              "      background-color: #3B4455;\n",
              "      fill: #D2E3FC;\n",
              "    }\n",
              "\n",
              "    [theme=dark] .colab-df-convert:hover {\n",
              "      background-color: #434B5C;\n",
              "      box-shadow: 0px 1px 3px 1px rgba(0, 0, 0, 0.15);\n",
              "      filter: drop-shadow(0px 1px 2px rgba(0, 0, 0, 0.3));\n",
              "      fill: #FFFFFF;\n",
              "    }\n",
              "  </style>\n",
              "\n",
              "      <script>\n",
              "        const buttonEl =\n",
              "          document.querySelector('#df-3c5dbfdb-7c40-4ebb-98e0-44b134be7311 button.colab-df-convert');\n",
              "        buttonEl.style.display =\n",
              "          google.colab.kernel.accessAllowed ? 'block' : 'none';\n",
              "\n",
              "        async function convertToInteractive(key) {\n",
              "          const element = document.querySelector('#df-3c5dbfdb-7c40-4ebb-98e0-44b134be7311');\n",
              "          const dataTable =\n",
              "            await google.colab.kernel.invokeFunction('convertToInteractive',\n",
              "                                                     [key], {});\n",
              "          if (!dataTable) return;\n",
              "\n",
              "          const docLinkHtml = 'Like what you see? Visit the ' +\n",
              "            '<a target=\"_blank\" href=https://colab.research.google.com/notebooks/data_table.ipynb>data table notebook</a>'\n",
              "            + ' to learn more about interactive tables.';\n",
              "          element.innerHTML = '';\n",
              "          dataTable['output_type'] = 'display_data';\n",
              "          await google.colab.output.renderOutput(dataTable, element);\n",
              "          const docLink = document.createElement('div');\n",
              "          docLink.innerHTML = docLinkHtml;\n",
              "          element.appendChild(docLink);\n",
              "        }\n",
              "      </script>\n",
              "    </div>\n",
              "  </div>\n",
              "  "
            ],
            "text/plain": [
              "              Name  SepalLength  SepalWidth  PetalLength  PetalWidth\n",
              "0      Iris-setosa        5.006       3.418        1.464       0.244\n",
              "1  Iris-versicolor        5.936       2.770        4.260       1.326\n",
              "2   Iris-virginica        6.588       2.974        5.552       2.026"
            ]
          },
          "metadata": {},
          "execution_count": 25
        }
      ]
    },
    {
      "cell_type": "code",
      "source": [
        "sample_data.reset_index()['Name']"
      ],
      "metadata": {
        "id": "E2nr0fF4eSSH",
        "outputId": "74f8d4dd-6845-432f-bb60-3fcc6c2f57b2",
        "colab": {
          "base_uri": "https://localhost:8080/"
        }
      },
      "execution_count": 26,
      "outputs": [
        {
          "output_type": "execute_result",
          "data": {
            "text/plain": [
              "0        Iris-setosa\n",
              "1    Iris-versicolor\n",
              "2     Iris-virginica\n",
              "Name: Name, dtype: object"
            ]
          },
          "metadata": {},
          "execution_count": 26
        }
      ]
    },
    {
      "cell_type": "code",
      "source": [
        "plt.bar([1,2,3],sample_data['PetalLength'])\n",
        "plt.xticks([1,2,3], sample_data.reset_index()['Name'], rotation='vertical')\n",
        "plt.title('Comparison between average petal length of 3 iris flowers')\n",
        "plt.ylabel('size (cm)');"
      ],
      "metadata": {
        "id": "hVAjumhGeXUo",
        "outputId": "d78da3b9-de5c-40fa-aff7-6b1c9a7585c7",
        "colab": {
          "base_uri": "https://localhost:8080/",
          "height": 331
        }
      },
      "execution_count": 27,
      "outputs": [
        {
          "output_type": "display_data",
          "data": {
            "image/png": "[encoded data removed]",
            "text/plain": [
              "<Figure size 432x288 with 1 Axes>"
            ]
          },
          "metadata": {
            "needs_background": "light"
          }
        }
      ]
    },
    {
      "cell_type": "code",
      "source": [
        "plt.bar([1,2,3],sample_data['PetalLength'])\n",
        "plt.xticks([1,2,3], sample_data.reset_index()['Name'], rotation='vertical')\n",
        "plt.title('Comparison between average petal length of 3 iris flowers')\n",
        "plt.grid(True,axis='y')\n",
        "plt.ylabel('size (cm)');"
      ],
      "metadata": {
        "id": "VK_SjEPst8Ot",
        "outputId": "dbf196ca-afb2-4004-e09b-824fdf9a0ccf",
        "colab": {
          "base_uri": "https://localhost:8080/",
          "height": 331
        }
      },
      "execution_count": 28,
      "outputs": [
        {
          "output_type": "display_data",
          "data": {
            "image/png": "[encoded data removed]",
            "text/plain": [
              "<Figure size 432x288 with 1 Axes>"
            ]
          },
          "metadata": {
            "needs_background": "light"
          }
        }
      ]
    },
    {
      "cell_type": "code",
      "source": [
        "plt.bar([1,2,3],sample_data['PetalLength'],color=['r','g','b'])\n",
        "plt.xticks([1,2,3], sample_data.reset_index()['Name'], rotation='vertical')\n",
        "plt.title('Comparison between average petal length of 3 iris flowers')\n",
        "plt.grid(True)\n",
        "plt.ylabel('size (cm)');"
      ],
      "metadata": {
        "id": "Rt3q1uxet9X_",
        "outputId": "161313b8-54d4-42fb-e943-f80d983f17dd",
        "colab": {
          "base_uri": "https://localhost:8080/",
          "height": 331
        }
      },
      "execution_count": 43,
      "outputs": [
        {
          "output_type": "display_data",
          "data": {
            "image/png": "[encoded data removed]",
            "text/plain": [
              "<Figure size 432x288 with 1 Axes>"
            ]
          },
          "metadata": {
            "needs_background": "light"
          }
        }
      ]
    },
    {
      "cell_type": "markdown",
      "source": [
        "##เปรียบเทียบปริมาณ มากกว่า 1 ปริมาณของ object หลาย class"
      ],
      "metadata": {
        "id": "yaXE69OhuMTU"
      }
    },
    {
      "cell_type": "code",
      "source": [
        "import numpy as np"
      ],
      "metadata": {
        "id": "GfJ5x0NduMvQ"
      },
      "execution_count": 30,
      "outputs": []
    },
    {
      "cell_type": "code",
      "source": [
        "width = 0.2\n",
        "\n",
        "plt.bar([1, 2],[sample_data['PetalLength'][1],sample_data['PetalWidth'][1]],width,color='g',label='versicolor') #ดอกที่ 2 versicolor\n",
        "plt.bar([1-width, 2-width],[sample_data['PetalLength'][0],sample_data['PetalWidth'][0]],width,color='r',label='setosa') #ดอกที่ 1 setosa ขยับซ้าย\n",
        "plt.bar([1+width, 2+width],[sample_data['PetalLength'][2],sample_data['PetalWidth'][2]],width,color='b',label='virginica') #ดอกที่ 3 virginica ขยับซ้าย\n",
        "\n",
        "plt.xticks([1,2], ['Petal Length','Petal Width'])\n",
        "plt.legend();"
      ],
      "metadata": {
        "id": "4gTeKfb1uNv2",
        "outputId": "2ed69cdb-2980-4ea0-bd03-d9af609ef9b3",
        "colab": {
          "base_uri": "https://localhost:8080/",
          "height": 264
        }
      },
      "execution_count": 42,
      "outputs": [
        {
          "output_type": "display_data",
          "data": {
            "image/png": "[encoded data removed]",
            "text/plain": [
              "<Figure size 432x288 with 1 Axes>"
            ]
          },
          "metadata": {
            "needs_background": "light"
          }
        }
      ]
    },
    {
      "cell_type": "markdown",
      "source": [
        "##การนำปริมาณหลายปริมาณมาซ้อนกัน"
      ],
      "metadata": {
        "id": "HdZRwRyIuQfj"
      }
    },
    {
      "cell_type": "markdown",
      "source": [
        "![image.png](data:image/png;base64,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)"
      ],
      "metadata": {
        "id": "rBETWbfLuU55"
      }
    },
    {
      "cell_type": "code",
      "source": [
        "plt.bar([1,2,3],sample_data['PetalLength'],color='b',label='Petal Length')\n",
        "plt.bar([1,2,3],sample_data['PetalWidth'],bottom=sample_data['PetalLength'],color='r',label='Petal Width')\n",
        "plt.xticks([1,2,3], sample_data.reset_index()['Name'])\n",
        "plt.grid(True,axis='y')\n",
        "plt.legend();"
      ],
      "metadata": {
        "id": "CvONUg1quOrn",
        "outputId": "76d286ad-447a-4ba1-8325-f15d8e525cc0",
        "colab": {
          "base_uri": "https://localhost:8080/",
          "height": 264
        }
      },
      "execution_count": 32,
      "outputs": [
        {
          "output_type": "display_data",
          "data": {
            "image/png": "[encoded data removed]",
            "text/plain": [
              "<Figure size 432x288 with 1 Axes>"
            ]
          },
          "metadata": {
            "needs_background": "light"
          }
        }
      ]
    },
    {
      "cell_type": "markdown",
      "source": [
        "###Bar chart แบบ ตะแคงข้าง"
      ],
      "metadata": {
        "id": "SsbNQPsAuX9s"
      }
    },
    {
      "cell_type": "code",
      "source": [
        "plt.barh([1,2,3],sample_data['PetalLength'],color='b',label='Petal Length')\n",
        "plt.barh([1,2,3],sample_data['PetalWidth'],left=sample_data['PetalLength'],color='r',label='Petal Width')\n",
        "plt.yticks([1,2,3], sample_data.reset_index()['Name'])\n",
        "plt.grid(True,axis='x')\n",
        "plt.legend();"
      ],
      "metadata": {
        "id": "TTFAGLi-uWii",
        "outputId": "1fac77cf-e46b-4ce2-cccf-ee4d061c3430",
        "colab": {
          "base_uri": "https://localhost:8080/",
          "height": 0
        }
      },
      "execution_count": 33,
      "outputs": [
        {
          "output_type": "display_data",
          "data": {
            "image/png": "[encoded data removed]",
            "text/plain": [
              "<Figure size 432x288 with 1 Axes>"
            ]
          },
          "metadata": {
            "needs_background": "light"
          }
        }
      ]
    },
    {
      "cell_type": "markdown",
      "source": [
        "#**HW7**\n",
        "1. plot bar chart เปรียบเทียบ sepal legth, sepal width, petal length, petal width ของ ดอก iris ทั้ง 3 ชนิด\n",
        "\n",
        "2. plot bar chart เพื่อเปรียบเทียบขนาดโดยรวมของ ดอก iris 3 ชนิด โดยดูจาก sepal legth, sepal width, petal length, และ petal width"
      ],
      "metadata": {
        "id": "NAO_lhouumAS"
      }
    },
    {
      "cell_type": "code",
      "source": [
        "sample_data"
      ],
      "metadata": {
        "id": "vUDhD4CtkpuZ",
        "outputId": "2b003174-b11e-4c5f-88f5-4ca3d807574e",
        "colab": {
          "base_uri": "https://localhost:8080/",
          "height": 175
        }
      },
      "execution_count": 40,
      "outputs": [
        {
          "output_type": "execute_result",
          "data": {
            "text/html": [
              "\n",
              "  <div id=\"df-fc98f4c0-ee8b-4419-85e8-57cb03c22790\">\n",
              "    <div class=\"colab-df-container\">\n",
              "      <div>\n",
              "<style scoped>\n",
              "    .dataframe tbody tr th:only-of-type {\n",
              "        vertical-align: middle;\n",
              "    }\n",
              "\n",
              "    .dataframe tbody tr th {\n",
              "        vertical-align: top;\n",
              "    }\n",
              "\n",
              "    .dataframe thead th {\n",
              "        text-align: right;\n",
              "    }\n",
              "</style>\n",
              "<table border=\"1\" class=\"dataframe\">\n",
              "  <thead>\n",
              "    <tr style=\"text-align: right;\">\n",
              "      <th></th>\n",
              "      <th>SepalLength</th>\n",
              "      <th>SepalWidth</th>\n",
              "      <th>PetalLength</th>\n",
              "      <th>PetalWidth</th>\n",
              "    </tr>\n",
              "    <tr>\n",
              "      <th>Name</th>\n",
              "      <th></th>\n",
              "      <th></th>\n",
              "      <th></th>\n",
              "      <th></th>\n",
              "    </tr>\n",
              "  </thead>\n",
              "  <tbody>\n",
              "    <tr>\n",
              "      <th>Iris-setosa</th>\n",
              "      <td>5.006</td>\n",
              "      <td>3.418</td>\n",
              "      <td>1.464</td>\n",
              "      <td>0.244</td>\n",
              "    </tr>\n",
              "    <tr>\n",
              "      <th>Iris-versicolor</th>\n",
              "      <td>5.936</td>\n",
              "      <td>2.770</td>\n",
              "      <td>4.260</td>\n",
              "      <td>1.326</td>\n",
              "    </tr>\n",
              "    <tr>\n",
              "      <th>Iris-virginica</th>\n",
              "      <td>6.588</td>\n",
              "      <td>2.974</td>\n",
              "      <td>5.552</td>\n",
              "      <td>2.026</td>\n",
              "    </tr>\n",
              "  </tbody>\n",
              "</table>\n",
              "</div>\n",
              "      <button class=\"colab-df-convert\" onclick=\"convertToInteractive('df-fc98f4c0-ee8b-4419-85e8-57cb03c22790')\"\n",
              "              title=\"Convert this dataframe to an interactive table.\"\n",
              "              style=\"display:none;\">\n",
              "        \n",
              "  <svg xmlns=\"http://www.w3.org/2000/svg\" height=\"24px\"viewBox=\"0 0 24 24\"\n",
              "       width=\"24px\">\n",
              "    <path d=\"M0 0h24v24H0V0z\" fill=\"none\"/>\n",
              "    <path d=\"M18.56 5.44l.94 2.06.94-2.06 2.06-.94-2.06-.94-.94-2.06-.94 2.06-2.06.94zm-11 1L8.5 8.5l.94-2.06 2.06-.94-2.06-.94L8.5 2.5l-.94 2.06-2.06.94zm10 10l.94 2.06.94-2.06 2.06-.94-2.06-.94-.94-2.06-.94 2.06-2.06.94z\"/><path d=\"M17.41 7.96l-1.37-1.37c-.4-.4-.92-.59-1.43-.59-.52 0-1.04.2-1.43.59L10.3 9.45l-7.72 7.72c-.78.78-.78 2.05 0 2.83L4 21.41c.39.39.9.59 1.41.59.51 0 1.02-.2 1.41-.59l7.78-7.78 2.81-2.81c.8-.78.8-2.07 0-2.86zM5.41 20L4 18.59l7.72-7.72 1.47 1.35L5.41 20z\"/>\n",
              "  </svg>\n",
              "      </button>\n",
              "      \n",
              "  <style>\n",
              "    .colab-df-container {\n",
              "      display:flex;\n",
              "      flex-wrap:wrap;\n",
              "      gap: 12px;\n",
              "    }\n",
              "\n",
              "    .colab-df-convert {\n",
              "      background-color: #E8F0FE;\n",
              "      border: none;\n",
              "      border-radius: 50%;\n",
              "      cursor: pointer;\n",
              "      display: none;\n",
              "      fill: #1967D2;\n",
              "      height: 32px;\n",
              "      padding: 0 0 0 0;\n",
              "      width: 32px;\n",
              "    }\n",
              "\n",
              "    .colab-df-convert:hover {\n",
              "      background-color: #E2EBFA;\n",
              "      box-shadow: 0px 1px 2px rgba(60, 64, 67, 0.3), 0px 1px 3px 1px rgba(60, 64, 67, 0.15);\n",
              "      fill: #174EA6;\n",
              "    }\n",
              "\n",
              "    [theme=dark] .colab-df-convert {\n",
              "      background-color: #3B4455;\n",
              "      fill: #D2E3FC;\n",
              "    }\n",
              "\n",
              "    [theme=dark] .colab-df-convert:hover {\n",
              "      background-color: #434B5C;\n",
              "      box-shadow: 0px 1px 3px 1px rgba(0, 0, 0, 0.15);\n",
              "      filter: drop-shadow(0px 1px 2px rgba(0, 0, 0, 0.3));\n",
              "      fill: #FFFFFF;\n",
              "    }\n",
              "  </style>\n",
              "\n",
              "      <script>\n",
              "        const buttonEl =\n",
              "          document.querySelector('#df-fc98f4c0-ee8b-4419-85e8-57cb03c22790 button.colab-df-convert');\n",
              "        buttonEl.style.display =\n",
              "          google.colab.kernel.accessAllowed ? 'block' : 'none';\n",
              "\n",
              "        async function convertToInteractive(key) {\n",
              "          const element = document.querySelector('#df-fc98f4c0-ee8b-4419-85e8-57cb03c22790');\n",
              "          const dataTable =\n",
              "            await google.colab.kernel.invokeFunction('convertToInteractive',\n",
              "                                                     [key], {});\n",
              "          if (!dataTable) return;\n",
              "\n",
              "          const docLinkHtml = 'Like what you see? Visit the ' +\n",
              "            '<a target=\"_blank\" href=https://colab.research.google.com/notebooks/data_table.ipynb>data table notebook</a>'\n",
              "            + ' to learn more about interactive tables.';\n",
              "          element.innerHTML = '';\n",
              "          dataTable['output_type'] = 'display_data';\n",
              "          await google.colab.output.renderOutput(dataTable, element);\n",
              "          const docLink = document.createElement('div');\n",
              "          docLink.innerHTML = docLinkHtml;\n",
              "          element.appendChild(docLink);\n",
              "        }\n",
              "      </script>\n",
              "    </div>\n",
              "  </div>\n",
              "  "
            ],
            "text/plain": [
              "                 SepalLength  SepalWidth  PetalLength  PetalWidth\n",
              "Name                                                             \n",
              "Iris-setosa            5.006       3.418        1.464       0.244\n",
              "Iris-versicolor        5.936       2.770        4.260       1.326\n",
              "Iris-virginica         6.588       2.974        5.552       2.026"
            ]
          },
          "metadata": {},
          "execution_count": 40
        }
      ]
    },
    {
      "cell_type": "code",
      "source": [
        "# 1.plot bar chart เปรียบเทียบ sepal length, sepal width, patal length, patal width ของ ดอก iris ทั้ง 3 ชนิด\n",
        "width = 0.2\n",
        "\n",
        "plt.bar([1,2,3,4],[sample_data['SepalLength'][1],sample_data['SepalWidth'][1],sample_data['PetalLength'][1],sample_data['PetalWidth'][1]],width,color='g',label='versicolor')\n",
        "plt.bar([1-width,2-width,3-width,4-width],[sample_data['SepalLength'][0],sample_data['SepalWidth'][0],sample_data['PetalLength'][0],sample_data['PetalWidth'][0]],width,color='r',label='setosa')\n",
        "plt.bar([1+width,2+width,3+width,4+width],[sample_data['SepalLength'][2],sample_data['SepalWidth'][2],sample_data['PetalLength'][2],sample_data['PetalWidth'][2]],width,color='b',label='virginica')\n",
        "\n",
        "plt.xticks([1,2,3,4], ['SepalLength','SepalWidth','Patal Lenght','Petal Width'])\n",
        "plt.ylabel('size (cm)')\n",
        "plt.title('Features comparison between 3 different Iris flowers')\n",
        "plt.legend();"
      ],
      "metadata": {
        "id": "SXfMpu1xktYl",
        "outputId": "32047734-749e-4bc5-ddbc-bd0beddc1974",
        "colab": {
          "base_uri": "https://localhost:8080/",
          "height": 281
        }
      },
      "execution_count": 41,
      "outputs": [
        {
          "output_type": "display_data",
          "data": {
            "image/png": "[encoded data removed]",
            "text/plain": [
              "<Figure size 432x288 with 1 Axes>"
            ]
          },
          "metadata": {
            "needs_background": "light"
          }
        }
      ]
    },
    {
      "cell_type": "code",
      "source": [
        "# 2.plot bar chart เปรียบเทียบขนาดโดยรวมของ ดอก iris 3 ชนิด โดยดูจาก sepal length, sepal width, patal length และ patal width\n",
        "\n",
        "plt.bar([1,2,3],sample_data['SepalLength'],color='r',label='Sepal Length')\n",
        "plt.bar([1,2,3],sample_data['SepalWidth'],bottom= sample_data['SepalLength'],color='g',label='Sepal Width')\n",
        "plt.bar([1,2,3],sample_data['PetalLength'],bottom= sample_data['SepalLength'] + sample_data['SepalWidth'],color='b',label='Petal Length')\n",
        "plt.bar([1,2,3],sample_data['PetalWidth'],bottom= sample_data['SepalLength'] + sample_data['SepalWidth'] + sample_data['PetalLength'],color='k',label='Petal Width')\n",
        "\n",
        "plt.xticks([1,2,3],sample_data.reset_index()['Name'])\n",
        "plt.ylabel('size (cm)')\n",
        "plt.title('Size comparison between 3 different Iris flowers')\n",
        "plt.legend();"
      ],
      "metadata": {
        "id": "vGNHbVfLlHw_",
        "outputId": "8cc2ca69-4502-4eb1-d9e1-02599d9c381c",
        "colab": {
          "base_uri": "https://localhost:8080/",
          "height": 281
        }
      },
      "execution_count": 44,
      "outputs": [
        {
          "output_type": "display_data",
          "data": {
            "image/png": "[encoded data removed]",
            "text/plain": [
              "<Figure size 432x288 with 1 Axes>"
            ]
          },
          "metadata": {
            "needs_background": "light"
          }
        }
      ]
    },
    {
      "cell_type": "markdown",
      "source": [
        "##**Histogram**\n",
        "แสดงความถี่ของข้อมูล"
      ],
      "metadata": {
        "id": "lHxeKSNpu1-0"
      }
    },
    {
      "cell_type": "code",
      "source": [
        "np.random.seed(2022)\n",
        "\n",
        "X = np.random.randint(1,101,10000)"
      ],
      "metadata": {
        "id": "g-rQloJhuZsU"
      },
      "execution_count": 34,
      "outputs": []
    },
    {
      "cell_type": "code",
      "source": [
        "X"
      ],
      "metadata": {
        "id": "atv-b9cwu41O",
        "outputId": "8e4c4fda-4846-40e4-992a-d88d7896d93d",
        "colab": {
          "base_uri": "https://localhost:8080/"
        }
      },
      "execution_count": 35,
      "outputs": [
        {
          "output_type": "execute_result",
          "data": {
            "text/plain": [
              "array([93, 46, 50, ..., 64,  7, 46])"
            ]
          },
          "metadata": {},
          "execution_count": 35
        }
      ]
    },
    {
      "cell_type": "code",
      "source": [
        "histout = plt.hist(X)"
      ],
      "metadata": {
        "id": "IHiJ-60iu52V",
        "outputId": "b0f29e4f-e3f3-469e-a672-02f1d0a29335",
        "colab": {
          "base_uri": "https://localhost:8080/",
          "height": 264
        }
      },
      "execution_count": 36,
      "outputs": [
        {
          "output_type": "display_data",
          "data": {
            "image/png": "[encoded data removed]",
            "text/plain": [
              "<Figure size 432x288 with 1 Axes>"
            ]
          },
          "metadata": {
            "needs_background": "light"
          }
        }
      ]
    },
    {
      "cell_type": "code",
      "source": [
        "histout"
      ],
      "metadata": {
        "id": "wz9xCYTTu7S7",
        "outputId": "ddff5678-2b4c-4da0-9e07-615412f9d763",
        "colab": {
          "base_uri": "https://localhost:8080/"
        }
      },
      "execution_count": 37,
      "outputs": [
        {
          "output_type": "execute_result",
          "data": {
            "text/plain": [
              "(array([1020., 1033.,  963.,  988., 1018.,  990., 1010., 1012.,  992.,\n",
              "         974.]),\n",
              " array([  1. ,  10.9,  20.8,  30.7,  40.6,  50.5,  60.4,  70.3,  80.2,\n",
              "         90.1, 100. ]),\n",
              " <a list of 10 Patch objects>)"
            ]
          },
          "metadata": {},
          "execution_count": 37
        }
      ]
    },
    {
      "cell_type": "code",
      "source": [
        "histout[0]"
      ],
      "metadata": {
        "id": "Y59yTqgTu8Vx",
        "outputId": "6d459a6b-5422-4026-e078-3f0154bc4ef6",
        "colab": {
          "base_uri": "https://localhost:8080/"
        }
      },
      "execution_count": 38,
      "outputs": [
        {
          "output_type": "execute_result",
          "data": {
            "text/plain": [
              "array([1020., 1033.,  963.,  988., 1018.,  990., 1010., 1012.,  992.,\n",
              "        974.])"
            ]
          },
          "metadata": {},
          "execution_count": 38
        }
      ]
    },
    {
      "cell_type": "code",
      "source": [
        "histout[1]"
      ],
      "metadata": {
        "id": "aHMmAoVAu9co",
        "outputId": "fe5d17f9-4715-4413-b9ac-585b568c2044",
        "colab": {
          "base_uri": "https://localhost:8080/"
        }
      },
      "execution_count": 39,
      "outputs": [
        {
          "output_type": "execute_result",
          "data": {
            "text/plain": [
              "array([  1. ,  10.9,  20.8,  30.7,  40.6,  50.5,  60.4,  70.3,  80.2,\n",
              "        90.1, 100. ])"
            ]
          },
          "metadata": {},
          "execution_count": 39
        }
      ]
    }
  ]
}