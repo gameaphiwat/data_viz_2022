{
  "nbformat": 4,
  "nbformat_minor": 0,
  "metadata": {
    "colab": {
      "name": "Basic_Programming_Concepts.ipynb",
      "provenance": [],
      "authorship_tag": "ABX9TyMFW+UUF3Nneb42m1dAWjGJ",
      "include_colab_link": true
    },
    "kernelspec": {
      "name": "python3",
      "display_name": "Python 3"
    },
    "language_info": {
      "name": "python"
    }
  },
  "cells": [
    {
      "cell_type": "markdown",
      "metadata": {
        "id": "view-in-github",
        "colab_type": "text"
      },
      "source": [
        "<a href=\"https://colab.research.google.com/github/gameaphiwat/data_viz_2022/blob/main/Basic_Programming_Concepts.ipynb\" target=\"_parent\"><img src=\"https://colab.research.google.com/assets/colab-badge.svg\" alt=\"Open In Colab\"/></a>"
      ]
    },
    {
      "cell_type": "markdown",
      "source": [
        "# **Functions ($f(x) = y $)**"
      ],
      "metadata": {
        "id": "AqbMjXrc80aR"
      }
    },
    {
      "cell_type": "markdown",
      "source": [
        "``` python \n",
        "def function_name(input_x): #ขึ้นต้นด้วย def แล้วตามด้วยชื่อ function แล้วรับ input ด้วยตัวแปร x\n",
        "    #do someting with input_x to get output_y จะได้ค่า y ออกมา\n",
        "    return output_y \n",
        "```"
      ],
      "metadata": {
        "id": "TrqFTELB838U"
      }
    },
    {
      "cell_type": "markdown",
      "source": [
        "$f_1(x)=x^2 + 75$"
      ],
      "metadata": {
        "id": "lL65klFI86ku"
      }
    },
    {
      "cell_type": "code",
      "execution_count": 1,
      "metadata": {
        "colab": {
          "base_uri": "https://localhost:8080/"
        },
        "id": "Tn-w248B8n9c",
        "outputId": "9b2705c9-e419-4593-d40f-4b5af9647b16"
      },
      "outputs": [
        {
          "output_type": "stream",
          "name": "stdout",
          "text": [
            "done!\n"
          ]
        }
      ],
      "source": [
        "# Function มีครบทุกอย่าง \n",
        "def function_f1(x):\n",
        "    a = x**2 #ยกกำลัง คือ ** สองอัน\n",
        "    y = a + 75 \n",
        "    return y #ส่งค่าออกมาเป็นค่า y\n",
        "\n",
        "print('done!') #ไม่ให้มันเยื้องแล้ว ให้มันกลับมาเหมือนเดิม "
      ]
    },
    {
      "cell_type": "code",
      "source": [
        "function_f1(3) # x =  3 ค่าที่ได้จะเท่ากับ 84"
      ],
      "metadata": {
        "colab": {
          "base_uri": "https://localhost:8080/"
        },
        "id": "h5CfVGQg89zE",
        "outputId": "65b2e2f0-1f2a-4677-992d-dfb014c050dc"
      },
      "execution_count": 2,
      "outputs": [
        {
          "output_type": "execute_result",
          "data": {
            "text/plain": [
              "84"
            ]
          },
          "metadata": {},
          "execution_count": 2
        }
      ]
    },
    {
      "cell_type": "markdown",
      "source": [
        "## **Function มีส่วนสำคัญทั้งหมด 4 ส่วน** \n",
        "\n",
        "1. บอก python ว่าเราจะเขียนฟังก์ชั่น ชื่ออะไร def  function_name(): (ขาดไม่ได้) \n",
        "2. กำหนดตัวแปรที่จะเป็น input (ขาดได้)\n",
        "3. ส่วนประมวลผล (ขาดไม่ได้)\n",
        "4. ส่วน output  (ขาดได้)"
      ],
      "metadata": {
        "id": "LtqAh1cR9GhQ"
      }
    },
    {
      "cell_type": "markdown",
      "source": [
        "###ตัวอย่าง function ที่มีส่วนประกอบครบ"
      ],
      "metadata": {
        "id": "tpfQDOT79M-U"
      }
    },
    {
      "cell_type": "code",
      "source": [
        "# Function มีครบทุกอย่าง \n",
        "def function_f1(x):\n",
        "    a = x**2 #ยกกำลัง คือ ** สองอัน\n",
        "    y = a + 75 \n",
        "    return y #ส่งค่าออกมาเป็นค่า y\n",
        "\n",
        "print('done!') #ไม่ให้มันเยื้องแล้ว ให้มันกลับมาเหมือนเดิม "
      ],
      "metadata": {
        "colab": {
          "base_uri": "https://localhost:8080/"
        },
        "id": "HaWBYpK79DbV",
        "outputId": "f2def59e-713f-44c5-ba2e-cb7f319a43b1"
      },
      "execution_count": 3,
      "outputs": [
        {
          "output_type": "stream",
          "name": "stdout",
          "text": [
            "done!\n"
          ]
        }
      ]
    },
    {
      "cell_type": "markdown",
      "source": [
        "###ตัวอย่าง function ที่ไม่มี input"
      ],
      "metadata": {
        "id": "h6HrY8Yx9UAX"
      }
    },
    {
      "cell_type": "code",
      "source": [
        "def pi_v(): #กำหนดชื่อเป็น pi_v\n",
        "    y =3.14159265359\n",
        "    return y #ส่งค่าออกมาเป็นค่า y"
      ],
      "metadata": {
        "id": "qREdiT0P9Rfu"
      },
      "execution_count": 4,
      "outputs": []
    },
    {
      "cell_type": "code",
      "source": [
        "piv = pi_v()\n",
        "circle_area_r2 = pi_v()*(2**2) #ตัวอย่างหาพื้นที่วงกลม\n",
        "print(circle_area_r2) "
      ],
      "metadata": {
        "colab": {
          "base_uri": "https://localhost:8080/"
        },
        "id": "gUk1LMYI9Wz0",
        "outputId": "f6b72cf1-1014-470a-f435-b9e73102aa1b"
      },
      "execution_count": 5,
      "outputs": [
        {
          "output_type": "stream",
          "name": "stdout",
          "text": [
            "12.56637061436\n"
          ]
        }
      ]
    },
    {
      "cell_type": "markdown",
      "source": [
        "###ตัวอย่าง function ที่ไม่มี Process"
      ],
      "metadata": {
        "id": "U8FvK_ET9nQC"
      }
    },
    {
      "cell_type": "code",
      "source": [
        "## def functions_a():    ###กรณีไม่มี Process ไม่มีไม่ได้ ไม่งั้นจะ Error"
      ],
      "metadata": {
        "id": "A0WXNmQS9Yad"
      },
      "execution_count": null,
      "outputs": []
    },
    {
      "cell_type": "markdown",
      "source": [
        "###ตัวอย่าง function ที่ไม่มี output"
      ],
      "metadata": {
        "id": "iQf7y_nn9vIy"
      }
    },
    {
      "cell_type": "code",
      "source": [
        "def print_name_id(name,id): #name ตรงนี้ไม่ใช่ตัวแปรถาวร ถ้าถูกใช้แล้วก็จะหายไป\n",
        "    print(f'ชื่อ {name} รหัสประจำตัว {id}')"
      ],
      "metadata": {
        "id": "4bIbE7qB9q8H"
      },
      "execution_count": 12,
      "outputs": []
    },
    {
      "cell_type": "code",
      "source": [
        "print_name_id('อภิวัฒน์','623020545-4') #print ชื่อกับรหัสประจำตัวออกมา"
      ],
      "metadata": {
        "colab": {
          "base_uri": "https://localhost:8080/"
        },
        "id": "0oh4BOo99xyR",
        "outputId": "d09fc607-d084-4694-9af0-5b0323261a35"
      },
      "execution_count": 14,
      "outputs": [
        {
          "output_type": "stream",
          "name": "stdout",
          "text": [
            "ชื่อ อภิวัฒน์ รหัสประจำตัว 623020545-4\n"
          ]
        }
      ]
    },
    {
      "cell_type": "code",
      "source": [
        "a = print_name_id('อภิวัฒน์','623020545-4') #กรณีไม่มี return"
      ],
      "metadata": {
        "colab": {
          "base_uri": "https://localhost:8080/"
        },
        "id": "9mgbuAyT9zWv",
        "outputId": "0f36592d-c599-4ba9-df49-81243af235a7"
      },
      "execution_count": 13,
      "outputs": [
        {
          "output_type": "stream",
          "name": "stdout",
          "text": [
            "ชื่อ อภิวัฒน์ รหัสประจำตัว 623020545-4\n"
          ]
        }
      ]
    },
    {
      "cell_type": "code",
      "source": [
        "a #ไม่มี return ค่า a เลยเป็นช่องว่างธรรมดา"
      ],
      "metadata": {
        "id": "V7chaBQG91h4"
      },
      "execution_count": 15,
      "outputs": []
    },
    {
      "cell_type": "markdown",
      "source": [
        "###ตัวอย่าง function print\n",
        "https://www.programiz.com/python-programming/methods/built-in/print"
      ],
      "metadata": {
        "id": "2RqJsspc-HE5"
      }
    },
    {
      "cell_type": "code",
      "source": [
        " print('อภิวัฒน์',end=' -> ') #จะอยู่ในบรรทัดเดียวกัน\n",
        " print('623020545-4') #\\n ขึ้นบรรทัดใหม่"
      ],
      "metadata": {
        "colab": {
          "base_uri": "https://localhost:8080/"
        },
        "id": "60VlD6w-93Oc",
        "outputId": "686ae968-9205-4f97-fff2-f910a990514f"
      },
      "execution_count": 19,
      "outputs": [
        {
          "output_type": "stream",
          "name": "stdout",
          "text": [
            "อภิวัฒน์ -> 623020545-4\n"
          ]
        }
      ]
    },
    {
      "cell_type": "code",
      "source": [
        " print('อภิวัฒน์',end=' 623020545-4 ') #จะอยู่ในบรรทัดเดียวกัน"
      ],
      "metadata": {
        "colab": {
          "base_uri": "https://localhost:8080/"
        },
        "id": "AWQpWf7C-KeP",
        "outputId": "46051dce-382c-404d-edfe-96b0da164492"
      },
      "execution_count": 20,
      "outputs": [
        {
          "output_type": "stream",
          "name": "stdout",
          "text": [
            "อภิวัฒน์ 623020545-4 "
          ]
        }
      ]
    },
    {
      "cell_type": "code",
      "source": [
        " print('อภิวัฒน์',' 623020545-4 ',sep=' & ') #จะเพิ่ม & ให้"
      ],
      "metadata": {
        "colab": {
          "base_uri": "https://localhost:8080/"
        },
        "id": "7yTbTnA4-MUX",
        "outputId": "bcbf545c-8f1e-4a2e-abf8-dd49a4f10c2a"
      },
      "execution_count": 21,
      "outputs": [
        {
          "output_type": "stream",
          "name": "stdout",
          "text": [
            "อภิวัฒน์ &  623020545-4 \n"
          ]
        }
      ]
    },
    {
      "cell_type": "markdown",
      "source": [
        "##input ของ function แบ่งเป็น 2 ชนิด (จำเป็นต้องใส่ กับ ไม่จำเป็นต้องใส่)"
      ],
      "metadata": {
        "id": "XIK0nF5N-cCL"
      }
    },
    {
      "cell_type": "markdown",
      "source": [
        "###ตัวอย่าง function print_grade มี input 3 ตัว จำเป็นต้องใส่ 2 ตัว คือ name กับ id และ ไม่จำเป็นต้องใส่ 1 ตัว คือ เกรด ซึ่งมีค่าเป็นค่าเริ่มต้น เป็น F"
      ],
      "metadata": {
        "id": "4GbZcfAn-dsJ"
      }
    },
    {
      "cell_type": "code",
      "source": [
        "def print_grade(name,id,grade = 'F'): #ฟังกชั่นมี input , พารามิเตอร์ 3 ตัว \n",
        "     print(f'รหัสนักศึกษา {id} ชื่อ {name}')\n",
        "     print(f'ได้เกรด {grade}')"
      ],
      "metadata": {
        "id": "uQ2dc1qi-N0t"
      },
      "execution_count": 22,
      "outputs": []
    },
    {
      "cell_type": "code",
      "source": [
        "print_grade('นายอภิวัฒน์ เหลี่ยมสิงขร' , '623020545-4' , 'A++++') #ลองปริ้นออกมาดู ซึ่งต้องใส่ให้ตรงกับที่ใส่ด้านบนคือ ใส่ชื่อก่อนใส่ไอดี #ถ้าไม่ใส่ เกรดจะได้ เกรด F"
      ],
      "metadata": {
        "colab": {
          "base_uri": "https://localhost:8080/"
        },
        "id": "UpK5oQoC-hpa",
        "outputId": "d3dfc590-f1ec-492e-8a74-9fb7e61492a8"
      },
      "execution_count": 27,
      "outputs": [
        {
          "output_type": "stream",
          "name": "stdout",
          "text": [
            "รหัสนักศึกษา 623020545-4 ชื่อ นายอภิวัฒน์ เหลี่ยมสิงขร\n",
            "ได้เกรด A++++\n"
          ]
        }
      ]
    },
    {
      "cell_type": "code",
      "source": [
        "print_grade(id = '623020545-4' ,name = 'นายอภิวัฒน์ เหลี่ยมสิงขร' ,grade='A++++' ) #กรณีนี้แบบกำหนดเลยว่า จะเอาอะไรขึ้นก่อน"
      ],
      "metadata": {
        "colab": {
          "base_uri": "https://localhost:8080/"
        },
        "id": "0Tcs09PM-j1l",
        "outputId": "70b44596-b174-414a-a435-17dddf058c15"
      },
      "execution_count": 28,
      "outputs": [
        {
          "output_type": "stream",
          "name": "stdout",
          "text": [
            "รหัสนักศึกษา 623020545-4 ชื่อ นายอภิวัฒน์ เหลี่ยมสิงขร\n",
            "ได้เกรด A++++\n"
          ]
        }
      ]
    },
    {
      "cell_type": "markdown",
      "source": [
        "##Conditional Statement (if)"
      ],
      "metadata": {
        "id": "cfwgM6ok-moE"
      }
    },
    {
      "cell_type": "code",
      "source": [
        ""
      ],
      "metadata": {
        "id": "oHGvmDCs-lJC"
      },
      "execution_count": null,
      "outputs": []
    }
  ]
}